{
 "cells": [
  {
   "cell_type": "markdown",
   "id": "21bdb410",
   "metadata": {},
   "source": [
    "# Setup"
   ]
  },
  {
   "cell_type": "code",
   "execution_count": 1,
   "id": "c908eac5",
   "metadata": {},
   "outputs": [],
   "source": [
    "# imports\n",
    "import pandas as pd\n",
    "import numpy as np\n",
    "import matplotlib.pyplot as plt\n",
    "import sys, os\n",
    "\n",
    "# handle image display\n",
    "from IPython.display import display, HTML\n",
    "import base64\n",
    "from pathlib import Path\n",
    "from PIL import Image, ImageChops, ImageEnhance\n",
    "\n",
    "sys.path.insert(0, os.path.abspath(os.path.join(\"..\"))) # path to hammock_plot module\n",
    "import hammock_plot"
   ]
  },
  {
   "cell_type": "markdown",
   "id": "260d67c7",
   "metadata": {},
   "source": [
    "## Instructions:\n",
    "When you have code that is logically correct, you can change GENERATE_EXPECTED to True to create baseline copies of the images for comparison\n",
    "When you're running tests, set it to False to allow for side-by-side comparison."
   ]
  },
  {
   "cell_type": "code",
   "execution_count": 2,
   "id": "634e7bc3",
   "metadata": {},
   "outputs": [],
   "source": [
    "GENERATE_EXPECTED = False \n",
    "# True: replaces reference images using current hammock_plot.py\n",
    "# False: runs tests\n",
    "# toggle on or off\n",
    "\n",
    "EXPECTED_PATH=os.path.abspath(\"expected_plots\")\n",
    "RESULT_PATH=os.path.abspath(\"test_plots\")\n",
    "os.makedirs(RESULT_PATH, exist_ok=True) # make sure that the RESULT_PATH directory exists"
   ]
  },
  {
   "cell_type": "markdown",
   "id": "6d601085",
   "metadata": {},
   "source": [
    "Dataframe set up"
   ]
  },
  {
   "cell_type": "code",
   "execution_count": 3,
   "id": "c543077f",
   "metadata": {},
   "outputs": [],
   "source": [
    "# set up dataframes\n",
    "DATA_DIR = os.path.abspath(os.path.join(\"..\", \"data\"))\n",
    "df_asthma = pd.read_csv(os.path.join(DATA_DIR, \"data_asthma.csv\"))\n",
    "df_diabetes = pd.read_csv(os.path.join(DATA_DIR, \"data_diabetes.csv\"))\n",
    "df_asthma_2 = pd.read_csv(os.path.join(DATA_DIR, \"data_asthma_2.csv\")) #.dropna().iloc[:20, :] # trim so it runs faster\n",
    "df_shakespeare = pd.read_csv(os.path.join(DATA_DIR, \"data_shakespeare.csv\"))\n",
    "df_penguins = pd.read_csv(os.path.join(DATA_DIR, \"data_penguins.csv\"))"
   ]
  },
  {
   "cell_type": "markdown",
   "id": "23baaecd",
   "metadata": {},
   "source": [
    "# Error handling tests\n",
    "Testing the inputs that should throw errors"
   ]
  },
  {
   "cell_type": "markdown",
   "id": "fdf00b15",
   "metadata": {},
   "source": [
    "Helper function to deal with errors"
   ]
  },
  {
   "cell_type": "code",
   "execution_count": 4,
   "id": "390a8be1",
   "metadata": {},
   "outputs": [],
   "source": [
    "def run_error_check(plot_func_error, expected_msg = None):\n",
    "    try:\n",
    "        plot_func_error()\n",
    "        print(\"Test failed: No error was thrown\")\n",
    "    except Exception as e: # general catch\n",
    "        error_message = str(e)\n",
    "        if expected_msg is None or expected_msg == error_message:\n",
    "            print(f\"Test success!\\nAs desired, error: {error_message}\")\n",
    "        else:\n",
    "            print(f\"Test failed:\\nActual error '{error_message}' differs from the expected error '{expected_msg}'.\")"
   ]
  },
  {
   "cell_type": "markdown",
   "id": "19f5ee4a",
   "metadata": {},
   "source": [
    "### Empty dataframe"
   ]
  },
  {
   "cell_type": "code",
   "execution_count": 5,
   "id": "49de62b0",
   "metadata": {},
   "outputs": [
    {
     "name": "stdout",
     "output_type": "stream",
     "text": [
      "Test success!\n",
      "As desired, error: data_df must be provided and non-empty.\n"
     ]
    }
   ],
   "source": [
    "run_error_check(lambda: hammock_plot.Hammock(pd.DataFrame()), \"data_df must be provided and non-empty.\")"
   ]
  },
  {
   "cell_type": "markdown",
   "id": "91f774a8",
   "metadata": {},
   "source": [
    "### No variable names passed"
   ]
  },
  {
   "cell_type": "code",
   "execution_count": 6,
   "id": "d5a32594",
   "metadata": {},
   "outputs": [
    {
     "name": "stdout",
     "output_type": "stream",
     "text": [
      "Test success!\n",
      "As desired, error: There must be some variable names passed to the argument 'var'.\n"
     ]
    }
   ],
   "source": [
    "hammock = hammock_plot.Hammock(df_asthma)\n",
    "run_error_check(\n",
    "    lambda: hammock.plot(),\n",
    "    f\"There must be some variable names passed to the argument 'var'.\"\n",
    ")"
   ]
  },
  {
   "cell_type": "markdown",
   "id": "60242d2c",
   "metadata": {},
   "source": [
    "### Invalid variable name passed"
   ]
  },
  {
   "cell_type": "code",
   "execution_count": 7,
   "id": "f3281c23",
   "metadata": {},
   "outputs": [
    {
     "name": "stdout",
     "output_type": "stream",
     "text": [
      "Test success!\n",
      "As desired, error: the variables: {'airplane'} in var_lst is not in data or value names user given does not match the data \n"
     ]
    }
   ],
   "source": [
    "hammock = hammock_plot.Hammock(df_asthma)\n",
    "run_error_check(\n",
    "    lambda: hammock.plot(\n",
    "        var=[\"hospitalizations\", \"group\", \"airplane\"],\n",
    "    ),\n",
    "    \"the variables: {'airplane'} in var_lst is not in data or value names user given does not match the data \"\n",
    ")"
   ]
  },
  {
   "cell_type": "markdown",
   "id": "8c057eca",
   "metadata": {},
   "source": [
    "### Invalid variable name passed to numerical_var_levels dictionary"
   ]
  },
  {
   "cell_type": "code",
   "execution_count": 8,
   "id": "97dc4597",
   "metadata": {},
   "outputs": [
    {
     "name": "stdout",
     "output_type": "stream",
     "text": [
      "Test success!\n",
      "As desired, error: The value: {'airplane'} in numerical_var_levels is not in data.\n"
     ]
    }
   ],
   "source": [
    "hammock = hammock_plot.Hammock(df_asthma)\n",
    "run_error_check(\n",
    "    lambda: hammock.plot(\n",
    "        var=[\"hospitalizations\", \"group\", \"gender\"],\n",
    "        numerical_var_levels={\"hospitalizations\": 4, \"airplane\": 5}\n",
    "    ),\n",
    "    \"The value: {'airplane'} in numerical_var_levels is not in data.\"\n",
    ")"
   ]
  },
  {
   "cell_type": "markdown",
   "id": "3b099e4a",
   "metadata": {},
   "source": [
    "### Specify categorical-type data to have interval-based labels"
   ]
  },
  {
   "cell_type": "code",
   "execution_count": 9,
   "id": "a5cfe184",
   "metadata": {},
   "outputs": [
    {
     "name": "stdout",
     "output_type": "stream",
     "text": [
      "Test success!\n",
      "As desired, error: group is a categorical data type and thus cannot belong to numerical_var_levels\n"
     ]
    }
   ],
   "source": [
    "hammock = hammock_plot.Hammock(df_asthma)\n",
    "run_error_check(\n",
    "    lambda: hammock.plot(\n",
    "        var=[\"hospitalizations\", \"group\", \"gender\"],\n",
    "        numerical_var_levels={\"hospitalizations\": 4, \"group\": 5}\n",
    "    ),\n",
    "    \"group is a categorical data type and thus cannot belong to numerical_var_levels\"\n",
    ")"
   ]
  },
  {
   "cell_type": "markdown",
   "id": "c065fac0",
   "metadata": {},
   "source": [
    "### numerical_var_levels given invalid tick specification"
   ]
  },
  {
   "cell_type": "code",
   "execution_count": 10,
   "id": "bca5d48e",
   "metadata": {},
   "outputs": [
    {
     "name": "stdout",
     "output_type": "stream",
     "text": [
      "Test success!\n",
      "As desired, error: You can only specify integer values or None for the number of levels for variables labeled by intervals\n"
     ]
    }
   ],
   "source": [
    "hammock = hammock_plot.Hammock(df_asthma)\n",
    "run_error_check(\n",
    "    lambda: hammock.plot(\n",
    "        var=[\"hospitalizations\", \"group\", \"gender\", \"comorbidities\"],\n",
    "        numerical_var_levels={\"hospitalizations\": 5, \"comorbidities\": 3.2}\n",
    "    ),\n",
    "    \"You can only specify integer values or None for the number of levels for variables labeled by intervals\"\n",
    ")"
   ]
  },
  {
   "cell_type": "markdown",
   "id": "3630c53b",
   "metadata": {},
   "source": [
    "### numerical_var_levels given invalid tick specification 2"
   ]
  },
  {
   "cell_type": "code",
   "execution_count": 11,
   "id": "82681446",
   "metadata": {},
   "outputs": [
    {
     "name": "stdout",
     "output_type": "stream",
     "text": [
      "Test success!\n",
      "As desired, error: Levels must be nonnegative: error with pair (comorbidities, -5)\n"
     ]
    }
   ],
   "source": [
    "hammock = hammock_plot.Hammock(df_asthma)\n",
    "run_error_check(\n",
    "    lambda: hammock.plot(\n",
    "        var=[\"hospitalizations\", \"group\", \"gender\", \"comorbidities\"],\n",
    "        numerical_var_levels={\"hospitalizations\": 5, \"comorbidities\": -5}\n",
    "    ),\n",
    "    \"Levels must be nonnegative: error with pair (comorbidities, -5)\"\n",
    ")"
   ]
  },
  {
   "cell_type": "markdown",
   "id": "a63a019c",
   "metadata": {},
   "source": [
    "### 'colors' argument is not a list of strings"
   ]
  },
  {
   "cell_type": "code",
   "execution_count": 12,
   "id": "159be088",
   "metadata": {},
   "outputs": [
    {
     "name": "stdout",
     "output_type": "stream",
     "text": [
      "Test success!\n",
      "As desired, error: Argument \"colors\" must be a list of str.\n"
     ]
    }
   ],
   "source": [
    "hammock = hammock_plot.Hammock(df_asthma)\n",
    "run_error_check(\n",
    "    lambda: hammock.plot(\n",
    "        var=[\"group\", \"gender\"],\n",
    "        hi_var=\"group\",\n",
    "        hi_value=[\"adult\", \"child\"],\n",
    "        colors=[\"red\", 2]\n",
    "    )\n",
    ")"
   ]
  },
  {
   "cell_type": "code",
   "execution_count": 13,
   "id": "b679be68",
   "metadata": {},
   "outputs": [
    {
     "name": "stdout",
     "output_type": "stream",
     "text": [
      "Test success!\n",
      "As desired, error: Argument \"colors\" must be a list of str.\n"
     ]
    }
   ],
   "source": [
    "hammock = hammock_plot.Hammock(df_asthma)\n",
    "run_error_check(\n",
    "    lambda: hammock.plot(\n",
    "        var=[\"group\", \"gender\"],\n",
    "        hi_var=\"group\",\n",
    "        hi_value=[\"adult\", \"child\"],\n",
    "        colors=[\"red\", (1,2)]\n",
    "    ),\n",
    "    f'Argument \"colors\" must be a list of str.'\n",
    ")"
   ]
  },
  {
   "cell_type": "markdown",
   "id": "5d8402da",
   "metadata": {},
   "source": [
    "### invalid variable name in same_scale list\n",
    "User's request to use the same scale for specific variables includes variables that are not in the data"
   ]
  },
  {
   "cell_type": "code",
   "execution_count": 14,
   "id": "6e678581",
   "metadata": {},
   "outputs": [
    {
     "name": "stdout",
     "output_type": "stream",
     "text": [
      "Test success!\n",
      "As desired, error: the variables: {'hi'} in same_scale is not in var_lst or value names user given does not match the data \n"
     ]
    }
   ],
   "source": [
    "hammock = hammock_plot.Hammock(df_diabetes)\n",
    "run_error_check(\n",
    "    lambda: hammock.plot(\n",
    "        var=list(df_diabetes),\n",
    "        same_scale=[\"sataces\", \"hi\"]\n",
    "    ),\n",
    "    \"the variables: {'hi'} in same_scale is not in var_lst or value names user given does not match the data \"\n",
    ")"
   ]
  },
  {
   "cell_type": "markdown",
   "id": "946c4a5d",
   "metadata": {},
   "source": [
    "### invalid variable name in same_scale list - not in var_lst\n",
    "User's request to use the same scale for specific variables includes variables that are not in the specified var_lst"
   ]
  },
  {
   "cell_type": "code",
   "execution_count": 15,
   "id": "776aebe0",
   "metadata": {},
   "outputs": [
    {
     "name": "stdout",
     "output_type": "stream",
     "text": [
      "Test success!\n",
      "As desired, error: the variables: {'satcomm'} in same_scale is not in var_lst or value names user given does not match the data \n"
     ]
    }
   ],
   "source": [
    "hammock = hammock_plot.Hammock(df_diabetes)\n",
    "run_error_check(\n",
    "    lambda: hammock.plot(\n",
    "        var=[\"sataces\", \"satrate\"],\n",
    "        same_scale=[\"sataces\", \"satcomm\"]\n",
    "    ),\n",
    "    \"the variables: {'satcomm'} in same_scale is not in var_lst or value names user given does not match the data \"\n",
    ")"
   ]
  },
  {
   "cell_type": "markdown",
   "id": "7bcceaca",
   "metadata": {},
   "source": [
    "### same_scale is specified across numerical and categorical data"
   ]
  },
  {
   "cell_type": "code",
   "execution_count": 16,
   "id": "e7287025",
   "metadata": {},
   "outputs": [
    {
     "name": "stdout",
     "output_type": "stream",
     "text": [
      "Test success!\n",
      "As desired, error: Variables in same_scale must either all be numerical or all be categorical.\n"
     ]
    }
   ],
   "source": [
    "hammock = hammock_plot.Hammock(df_asthma)\n",
    "run_error_check(\n",
    "    lambda: hammock.plot(\n",
    "        var=[\"comorbidities\", \"group\", \"gender\"],\n",
    "        same_scale=[\"comorbidities\", \"group\"],\n",
    "    ),\n",
    "    \"Variables in same_scale must either all be numerical or all be categorical.\"\n",
    ")"
   ]
  },
  {
   "cell_type": "markdown",
   "id": "e7e388e8",
   "metadata": {},
   "source": [
    "### invalid variable in value_order"
   ]
  },
  {
   "cell_type": "code",
   "execution_count": 17,
   "id": "f5a91a20",
   "metadata": {},
   "outputs": [
    {
     "name": "stdout",
     "output_type": "stream",
     "text": [
      "Test success!\n",
      "As desired, error: the variables: {'airplane'} in value_order is not in var_lst or value names user given does not match the data \n"
     ]
    }
   ],
   "source": [
    "hammock = hammock_plot.Hammock(df_asthma)\n",
    "run_error_check(\n",
    "    lambda: hammock.plot(\n",
    "        var=[\"comorbidities\", \"group\", \"gender\"],\n",
    "        value_order={\"group\": [\"child\", \"adolescent\", \"adult\"], \"airplane\": [\"1\", \"2\", \"3\"]}\n",
    "    ),\n",
    "    \"the variables: {'airplane'} in value_order is not in var_lst or value names user given does not match the data \"\n",
    ")"
   ]
  },
  {
   "cell_type": "markdown",
   "id": "572a1c45",
   "metadata": {},
   "source": [
    "### invalid variable name"
   ]
  },
  {
   "cell_type": "code",
   "execution_count": 18,
   "id": "057a9655",
   "metadata": {},
   "outputs": [
    {
     "name": "stdout",
     "output_type": "stream",
     "text": [
      "Test success!\n",
      "As desired, error: the variables: {'vehicle'} in var_lst is not in data or value names user given does not match the data \n"
     ]
    }
   ],
   "source": [
    "hammock = hammock_plot.Hammock(df_asthma)\n",
    "run_error_check(\n",
    "    lambda: hammock.plot(\n",
    "        var=[\"group\", \"gender\", \"vehicle\"]\n",
    "    ),\n",
    "    \"the variables: {'vehicle'} in var_lst is not in data or value names user given does not match the data \"\n",
    ")"
   ]
  },
  {
   "cell_type": "markdown",
   "id": "aee8c519",
   "metadata": {},
   "source": [
    "### invalid variable name to highlight"
   ]
  },
  {
   "cell_type": "code",
   "execution_count": 19,
   "id": "21e4a4d9",
   "metadata": {},
   "outputs": [
    {
     "name": "stdout",
     "output_type": "stream",
     "text": [
      "Test success!\n",
      "As desired, error: highlight variable is not in data. \n"
     ]
    }
   ],
   "source": [
    "hammock = hammock_plot.Hammock(df_asthma)\n",
    "run_error_check(\n",
    "    lambda: hammock.plot(\n",
    "        var=[\"group\", \"gender\"],\n",
    "        hi_var=\"vehicle\",\n",
    "        hi_value=[\"airplane\", \"bicycle\"]\n",
    "    ),\n",
    "    \"highlight variable is not in data. \"\n",
    ")"
   ]
  },
  {
   "cell_type": "markdown",
   "id": "40f35cf0",
   "metadata": {},
   "source": [
    "### no values provided to highlight"
   ]
  },
  {
   "cell_type": "code",
   "execution_count": 20,
   "id": "bb720296",
   "metadata": {},
   "outputs": [
    {
     "name": "stdout",
     "output_type": "stream",
     "text": [
      "Test success!\n",
      "As desired, error: hi_value or hi_missing must be speicified as hi_var is given.\n"
     ]
    }
   ],
   "source": [
    "hammock = hammock_plot.Hammock(df_asthma)\n",
    "run_error_check(\n",
    "    lambda: hammock.plot(\n",
    "        var=[\"group\", \"gender\"],\n",
    "        hi_var=\"group\"\n",
    "    ),\n",
    "    \"hi_value or hi_missing must be speicified as hi_var is given.\"\n",
    ")"
   ]
  },
  {
   "cell_type": "markdown",
   "id": "047e51a4",
   "metadata": {},
   "source": [
    "### invalid value name in hi_value"
   ]
  },
  {
   "cell_type": "code",
   "execution_count": 21,
   "id": "cc6fe8d2",
   "metadata": {},
   "outputs": [
    {
     "name": "stdout",
     "output_type": "stream",
     "text": [
      "Test success!\n",
      "As desired, error: The value(s): {'parent'} in hi_value is not in data.\n"
     ]
    }
   ],
   "source": [
    "hammock = hammock_plot.Hammock(df_asthma)\n",
    "run_error_check(\n",
    "    lambda: hammock.plot(\n",
    "        var=[\"group\", \"gender\"],\n",
    "        hi_var=\"group\",\n",
    "        hi_value=[\"adult\", \"parent\"]\n",
    "    ),\n",
    "    \"The value(s): {'parent'} in hi_value is not in data.\"\n",
    ")"
   ]
  },
  {
   "cell_type": "markdown",
   "id": "5860bd5f",
   "metadata": {},
   "source": [
    "### highlight colour list includes default colour"
   ]
  },
  {
   "cell_type": "code",
   "execution_count": 22,
   "id": "01842192",
   "metadata": {},
   "outputs": [
    {
     "name": "stdout",
     "output_type": "stream",
     "text": [
      "Test success!\n",
      "As desired, error: The current highlight colors ['red', '#a6cee3'] conflict with the default color #a6cee3. Please choose another default color or other highlight colors\n"
     ]
    }
   ],
   "source": [
    "hammock = hammock_plot.Hammock(df_asthma)\n",
    "run_error_check(\n",
    "    lambda: hammock.plot(\n",
    "        var=[\"group\", \"gender\"],\n",
    "        hi_var=\"group\",\n",
    "        hi_value=[\"adult\", \"child\"],\n",
    "        colors=[\"red\", \"#a6cee3\"]\n",
    "    ),\n",
    "    \"The current highlight colors ['red', '#a6cee3'] conflict with the default color #a6cee3. Please choose another default color or other highlight colors\"\n",
    ")"
   ]
  },
  {
   "cell_type": "code",
   "execution_count": 23,
   "id": "003c4285",
   "metadata": {},
   "outputs": [
    {
     "name": "stdout",
     "output_type": "stream",
     "text": [
      "Test success!\n",
      "As desired, error: The current highlight colors ['red', 'grey'] conflict with the default color grey. Please choose another default color or other highlight colors\n"
     ]
    }
   ],
   "source": [
    "hammock = hammock_plot.Hammock(df_asthma)\n",
    "run_error_check(\n",
    "    lambda: hammock.plot(\n",
    "        var=[\"group\", \"gender\"],\n",
    "        hi_var=\"group\",\n",
    "        hi_value=[\"adult\", \"child\"],\n",
    "        colors=[\"red\", \"grey\"],\n",
    "        default_color=\"grey\"\n",
    "    ),\n",
    "    \"The current highlight colors ['red', 'grey'] conflict with the default color grey. Please choose another default color or other highlight colors\"\n",
    ")"
   ]
  },
  {
   "cell_type": "markdown",
   "id": "6f08c45d",
   "metadata": {},
   "source": [
    "# General tests\n",
    "Test cases involving \"general\" hammock plot methods (following the categories in README.md)"
   ]
  },
  {
   "cell_type": "markdown",
   "id": "74a2575f",
   "metadata": {},
   "source": [
    "Helper function to display results"
   ]
  },
  {
   "cell_type": "code",
   "execution_count": 24,
   "id": "f9b6be36",
   "metadata": {},
   "outputs": [],
   "source": [
    "def show_expected_vs_actual(title, filename):\n",
    "    \"\"\"\n",
    "    Compare expected vs actual images.\n",
    "    If they differ, display them side by side and show a diff image below.\n",
    "    \"\"\"\n",
    "    def encode_image(path):\n",
    "        path = Path(path)\n",
    "        if not path.exists():\n",
    "            return None\n",
    "        with open(path, \"rb\") as f:\n",
    "            data = f.read()\n",
    "        return base64.b64encode(data).decode(\"utf-8\")\n",
    "\n",
    "    def images_differ(img1_path, img2_path):\n",
    "        \"\"\"Return (bool, diff_image) where diff_image highlights changes.\"\"\"\n",
    "        try:\n",
    "            img1 = Image.open(img1_path).convert(\"RGB\")\n",
    "            img2 = Image.open(img2_path).convert(\"RGB\")\n",
    "        except Exception:\n",
    "            return True, None  # couldn't open or mismatch\n",
    "\n",
    "        if img1.size != img2.size:\n",
    "            return True, None\n",
    "\n",
    "        diff = ImageChops.difference(img1, img2)\n",
    "        if diff.getbbox() is None:\n",
    "            return False, None\n",
    "\n",
    "        # Enhance the difference for visibility\n",
    "        enhancer = ImageEnhance.Brightness(diff)\n",
    "        diff_enhanced = enhancer.enhance(3.0)\n",
    "        return True, diff_enhanced\n",
    "\n",
    "    expected_file = os.path.join(EXPECTED_PATH, filename)\n",
    "    result_file = os.path.join(RESULT_PATH, filename)\n",
    "\n",
    "    if not os.path.exists(result_file):\n",
    "        print(f\"Error: test_plots directory doesn’t contain {filename}\")\n",
    "        return\n",
    "    if not os.path.exists(expected_file):\n",
    "        print(f\"Error: expected_plots directory doesn’t contain {filename}\")\n",
    "        return\n",
    "\n",
    "    differ, diff_img = images_differ(expected_file, result_file)\n",
    "\n",
    "    if differ:\n",
    "        print(f\"Test failed: Significant difference found in {title}\")\n",
    "\n",
    "        expected_b64 = encode_image(expected_file)\n",
    "        result_b64 = encode_image(result_file)\n",
    "\n",
    "        # Save the diff image temporarily to encode it\n",
    "        diff_b64 = \"\"\n",
    "        if diff_img:\n",
    "            diff_temp_path = \"_temp_diff.png\"\n",
    "            diff_img.save(diff_temp_path)\n",
    "            diff_b64 = encode_image(diff_temp_path)\n",
    "            os.remove(diff_temp_path)\n",
    "\n",
    "        html_content = f\"\"\"\n",
    "        <div style=\"text-align: center; margin-bottom: 10px;\">\n",
    "            <h3>{title}</h3>\n",
    "        </div>\n",
    "        <div style=\"display: flex; flex-wrap: wrap; justify-content: center; gap: 10px; align-items: flex-start;\">\n",
    "            <div style=\"flex: 1 1 48%; text-align: center;\">\n",
    "                <div style=\"font-weight: bold;\">Expected</div>\n",
    "                <img src=\"data:image/png;base64,{expected_b64}\" style=\"width: 100%; height: auto; border: 1px solid #ccc;\">\n",
    "            </div>\n",
    "            <div style=\"flex: 1 1 48%; text-align: center;\">\n",
    "                <div style=\"font-weight: bold;\">Actual</div>\n",
    "                <img src=\"data:image/png;base64,{result_b64}\" style=\"width: 100%; height: auto; border: 1px solid #ccc;\">\n",
    "            </div>\n",
    "        </div>\n",
    "        \"\"\"\n",
    "\n",
    "        if diff_b64:\n",
    "            html_content += f\"\"\"\n",
    "            <div style=\"margin-top: 20px; text-align: center;\">\n",
    "                <div style=\"font-weight: bold;\">Difference</div>\n",
    "                <img src=\"data:image/png;base64,{diff_b64}\" style=\"max-width: 80%; height: auto; border: 1px solid #ccc;\">\n",
    "            </div>\n",
    "            \"\"\"\n",
    "\n",
    "        display(HTML(html_content))\n",
    "\n",
    "    else:\n",
    "        print(f\"{title}: No visual differences detected\")"
   ]
  },
  {
   "cell_type": "markdown",
   "id": "2171abd1",
   "metadata": {},
   "source": [
    "## Continuous Data"
   ]
  },
  {
   "cell_type": "code",
   "execution_count": 25,
   "id": "d8ee4d9b",
   "metadata": {},
   "outputs": [
    {
     "name": "stdout",
     "output_type": "stream",
     "text": [
      "Continuous Data Test: No visual differences detected\n"
     ]
    }
   ],
   "source": [
    "# highlight - modified default colour\n",
    "filename = \"continuous.png\"\n",
    "df = df_asthma_2\n",
    "\n",
    "hammock = hammock_plot.Hammock(df)\n",
    "\n",
    "hammock.plot(\n",
    "    var= [\"Age\", \"Gender\", \"Smoking\", \"PhysicalActivity\", \"FamilyHistoryAsthma\"],\n",
    "    display_figure=False,\n",
    "    hi_var=\"PhysicalActivity\",\n",
    "    hi_value=\"2<x<3.5\",\n",
    "    missing=True,\n",
    "    save_path=os.path.join(EXPECTED_PATH if GENERATE_EXPECTED else RESULT_PATH, filename),\n",
    "    numerical_display_type={\"PhysicalActivity\": \"violin\",\"Age\":\"box\",\"Gender\":\"box\",\"Smoking\":\"box\",\"FamilyHistoryAsthma\":\"box\"},\n",
    ")\n",
    "if not GENERATE_EXPECTED: show_expected_vs_actual(\"Continuous Data Test\", filename)"
   ]
  },
  {
   "cell_type": "markdown",
   "id": "edaa9df3",
   "metadata": {},
   "source": [
    "## Boxplot Highlighting"
   ]
  },
  {
   "cell_type": "code",
   "execution_count": 26,
   "id": "7d5acd9f",
   "metadata": {},
   "outputs": [
    {
     "name": "stdout",
     "output_type": "stream",
     "text": [
      "Continuous Data Test: No visual differences detected\n"
     ]
    }
   ],
   "source": [
    "filename = \"box-mult-highlight.png\"\n",
    "df = df_penguins\n",
    "\n",
    "hammock = hammock_plot.Hammock(df)\n",
    "\n",
    "hammock.plot(\n",
    "    var= [\"species\", \"island\", \"bill_length_mm\", \"bill_depth_mm\", \"flipper_length_mm\", \"body_mass_g\"],\n",
    "    display_figure=False,\n",
    "    hi_var=\"island\",\n",
    "    hi_value=[\"Torgersen\", \"Biscoe\"],\n",
    "    missing=True,\n",
    "    save_path=os.path.join(EXPECTED_PATH if GENERATE_EXPECTED else RESULT_PATH, filename),\n",
    "    numerical_display_type={\"bill_length_mm\":\"box\", \"bill_depth_mm\": \"box\", \"flipper_length_mm\": \"box\", \"body_mass_g\":\"box\"}\n",
    ")\n",
    "if not GENERATE_EXPECTED: show_expected_vs_actual(\"Continuous Data Test\", filename)"
   ]
  },
  {
   "cell_type": "markdown",
   "id": "81cc8bf9",
   "metadata": {},
   "source": [
    "## Var List"
   ]
  },
  {
   "cell_type": "code",
   "execution_count": 27,
   "id": "48f69f25",
   "metadata": {},
   "outputs": [
    {
     "name": "stdout",
     "output_type": "stream",
     "text": [
      "Variable List Test: No visual differences detected\n"
     ]
    }
   ],
   "source": [
    "# general - var list\n",
    "filename = \"varlist.png\"\n",
    "var = [\"gender\", \"group\", \"hospitalizations\"]\n",
    "df = df_asthma\n",
    "\n",
    "hammock = hammock_plot.Hammock(df)\n",
    "hammock.plot(\n",
    "    var=var,\n",
    "    display_figure=False,\n",
    "    save_path=os.path.join(EXPECTED_PATH if GENERATE_EXPECTED else RESULT_PATH, filename)\n",
    ")\n",
    "if not GENERATE_EXPECTED: show_expected_vs_actual(\"Variable List Test\", filename)"
   ]
  },
  {
   "cell_type": "markdown",
   "id": "13cc5372",
   "metadata": {},
   "source": [
    "## Value Ordering"
   ]
  },
  {
   "cell_type": "code",
   "execution_count": 28,
   "id": "65558592",
   "metadata": {},
   "outputs": [
    {
     "name": "stdout",
     "output_type": "stream",
     "text": [
      "Value Order Test: No visual differences detected\n"
     ]
    }
   ],
   "source": [
    "# general - value ordering\n",
    "filename = \"val_order.png\"\n",
    "value_order = {\"group\": [\"adolescent\", \"child\", \"adult\"]}\n",
    "df = df_asthma\n",
    "hammock = hammock_plot.Hammock(df)\n",
    "\n",
    "hammock.plot(\n",
    "    var=list(df),\n",
    "    value_order=value_order,\n",
    "    display_figure=False,\n",
    "    save_path=os.path.join(EXPECTED_PATH if GENERATE_EXPECTED else RESULT_PATH, filename),\n",
    ")\n",
    "if not GENERATE_EXPECTED: show_expected_vs_actual(\"Value Order Test\", filename)"
   ]
  },
  {
   "cell_type": "markdown",
   "id": "89c4ae0f",
   "metadata": {},
   "source": [
    "## Missing Boolean"
   ]
  },
  {
   "cell_type": "markdown",
   "id": "a74e8ec5",
   "metadata": {},
   "source": [
    "## Labels off"
   ]
  },
  {
   "cell_type": "code",
   "execution_count": 29,
   "id": "2d2d39ef",
   "metadata": {},
   "outputs": [
    {
     "name": "stdout",
     "output_type": "stream",
     "text": [
      "Display Label Test: No visual differences detected\n"
     ]
    }
   ],
   "source": [
    "# general - label boolean\n",
    "filename = \"label_off.png\"\n",
    "df = df_asthma\n",
    "\n",
    "hammock = hammock_plot.Hammock(df)\n",
    "\n",
    "hammock.plot(\n",
    "    var=list(df),\n",
    "    label=False,\n",
    "    display_figure=False,\n",
    "    save_path=os.path.join(EXPECTED_PATH if GENERATE_EXPECTED else RESULT_PATH, filename)\n",
    ")\n",
    "if not GENERATE_EXPECTED: show_expected_vs_actual(\"Display Label Test\", filename)"
   ]
  },
  {
   "cell_type": "markdown",
   "id": "65de383c",
   "metadata": {},
   "source": [
    "## Labels off, Unibar off"
   ]
  },
  {
   "cell_type": "code",
   "execution_count": 30,
   "id": "26433d88",
   "metadata": {},
   "outputs": [
    {
     "name": "stdout",
     "output_type": "stream",
     "text": [
      "Display Unibar Test: No visual differences detected\n"
     ]
    }
   ],
   "source": [
    "# general - label boolean\n",
    "filename = \"label_off_unibar_off.png\"\n",
    "df = df_asthma\n",
    "\n",
    "hammock = hammock_plot.Hammock(df)\n",
    "\n",
    "hammock.plot(\n",
    "    var=list(df),\n",
    "    label=False,\n",
    "    unibar=False,\n",
    "    display_figure=False,\n",
    "    save_path=os.path.join(EXPECTED_PATH if GENERATE_EXPECTED else RESULT_PATH, filename)\n",
    ")\n",
    "if not GENERATE_EXPECTED: show_expected_vs_actual(\"Display Unibar Test\", filename)"
   ]
  },
  {
   "cell_type": "markdown",
   "id": "278ab29a",
   "metadata": {},
   "source": [
    "## Labels on, Unibar off"
   ]
  },
  {
   "cell_type": "code",
   "execution_count": 31,
   "id": "2e61c630",
   "metadata": {},
   "outputs": [
    {
     "name": "stdout",
     "output_type": "stream",
     "text": [
      "Display Unibar Test: No visual differences detected\n"
     ]
    }
   ],
   "source": [
    "# general - label boolean\n",
    "filename = \"label_on_unibar_off.png\"\n",
    "df = df_asthma\n",
    "\n",
    "hammock = hammock_plot.Hammock(df)\n",
    "\n",
    "hammock.plot(\n",
    "    var=list(df),\n",
    "    unibar=False,\n",
    "    hi_var=\"group\",\n",
    "    hi_value=[\"child\"],\n",
    "    display_figure=False,\n",
    "    save_path=os.path.join(EXPECTED_PATH if GENERATE_EXPECTED else RESULT_PATH, filename),\n",
    ")\n",
    "if not GENERATE_EXPECTED: show_expected_vs_actual(\"Display Unibar Test\", filename)"
   ]
  },
  {
   "cell_type": "markdown",
   "id": "4ddcf4ab",
   "metadata": {},
   "source": [
    "## Interval Variable Labels"
   ]
  },
  {
   "cell_type": "code",
   "execution_count": 32,
   "id": "c8c6aea2",
   "metadata": {},
   "outputs": [
    {
     "name": "stdout",
     "output_type": "stream",
     "text": [
      "Interval Variable Levels Test: No visual differences detected\n"
     ]
    },
    {
     "name": "stderr",
     "output_type": "stream",
     "text": [
      "c:\\Users\\shuan\\Documents\\personal\\2025-hammock-plots\\hammock_plot\\hammock_plot\\shapes.py:62: UserWarning: Overlap detected in unibar PhysicalActivity.\n",
      "  warnings.warn(f\"Overlap detected in unibar {unibar_name}.\", UserWarning)\n"
     ]
    }
   ],
   "source": [
    "# numerical variable levels\n",
    "filename = \"interval_variables.png\"\n",
    "df = df_asthma_2.dropna().iloc[:20, :]\n",
    "\n",
    "hammock = hammock_plot.Hammock(df)\n",
    "\n",
    "hammock.plot(\n",
    "    var= [\"Age\", \"Gender\", \"Smoking\", \"PhysicalActivity\", \"FamilyHistoryAsthma\"],\n",
    "    display_figure=False,\n",
    "    numerical_var_levels={\"Gender\": 5, \"PhysicalActivity\": None},\n",
    "    save_path=os.path.join(EXPECTED_PATH if GENERATE_EXPECTED else RESULT_PATH, filename)\n",
    ")\n",
    "if not GENERATE_EXPECTED: show_expected_vs_actual(\"Interval Variable Levels Test\", filename)"
   ]
  },
  {
   "cell_type": "markdown",
   "id": "a273b104",
   "metadata": {},
   "source": [
    "# Highlight tests\n",
    "Test cases involving \"highlight\" hammock plot methods (following the categories in README.md)"
   ]
  },
  {
   "cell_type": "markdown",
   "id": "1f0cb8d3",
   "metadata": {},
   "source": [
    "## Highlight categorical values"
   ]
  },
  {
   "cell_type": "code",
   "execution_count": 33,
   "id": "acb86fb4",
   "metadata": {},
   "outputs": [
    {
     "name": "stdout",
     "output_type": "stream",
     "text": [
      "Highlight Categorical Variables Test: No visual differences detected\n"
     ]
    }
   ],
   "source": [
    "# highlight - value - categorical\n",
    "filename = \"highlight_var_categorical.png\"\n",
    "df = df_shakespeare\n",
    "\n",
    "hammock = hammock_plot.Hammock(df)\n",
    "\n",
    "hammock.plot(\n",
    "    var= [item for item in list(df) if item != \"play_name\"],\n",
    "    display_figure=False,\n",
    "    hi_var=\"speaker1\",\n",
    "    hi_value=[\"Nobility\",\"Citizens\",\"Gentry\"],\n",
    "    save_path=os.path.join(EXPECTED_PATH if GENERATE_EXPECTED else RESULT_PATH, filename),\n",
    "    #shape=\"parallelogram\"\n",
    ")\n",
    "if not GENERATE_EXPECTED: show_expected_vs_actual(\"Highlight Categorical Variables Test\", filename)"
   ]
  },
  {
   "cell_type": "markdown",
   "id": "5b994d56",
   "metadata": {},
   "source": [
    "## Highlight range of values"
   ]
  },
  {
   "cell_type": "code",
   "execution_count": 34,
   "id": "b243ff8c",
   "metadata": {},
   "outputs": [
    {
     "name": "stdout",
     "output_type": "stream",
     "text": [
      "Highlight Variable Range Test: No visual differences detected\n"
     ]
    },
    {
     "name": "stderr",
     "output_type": "stream",
     "text": [
      "c:\\Users\\shuan\\Documents\\personal\\2025-hammock-plots\\hammock_plot\\hammock_plot\\shapes.py:62: UserWarning: Overlap detected in unibar PhysicalActivity.\n",
      "  warnings.warn(f\"Overlap detected in unibar {unibar_name}.\", UserWarning)\n"
     ]
    }
   ],
   "source": [
    "# highlight - value - expression\n",
    "# NOTE: this is wrong - the values should be rounded but they're not being rounded.\n",
    "# NOTE: bar size is also different from when the range is not highlighted.\n",
    "filename = \"highlight_var_range.png\"\n",
    "df = df_asthma_2.dropna().iloc[:20, :]\n",
    "\n",
    "hammock = hammock_plot.Hammock(df)\n",
    "\n",
    "hammock.plot(\n",
    "    var= [\"Age\", \"Gender\", \"Smoking\", \"PhysicalActivity\", \"FamilyHistoryAsthma\"],\n",
    "    display_figure=False,\n",
    "    hi_var=\"PhysicalActivity\",\n",
    "    hi_value=\"6.5<x<8.2\",\n",
    "    save_path=os.path.join(EXPECTED_PATH if GENERATE_EXPECTED else RESULT_PATH, filename)\n",
    ")\n",
    "if not GENERATE_EXPECTED: show_expected_vs_actual(\"Highlight Variable Range Test\", filename)"
   ]
  },
  {
   "cell_type": "markdown",
   "id": "8bcff0ee",
   "metadata": {},
   "source": [
    "## Highlight boxes (horizontal)"
   ]
  },
  {
   "cell_type": "code",
   "execution_count": 35,
   "id": "142e24c0",
   "metadata": {},
   "outputs": [
    {
     "name": "stdout",
     "output_type": "stream",
     "text": [
      "Highlight Box = Horizontal Test: No visual differences detected\n"
     ]
    }
   ],
   "source": [
    "# highlight - horizontal\n",
    "filename = \"highlight_horizontal.png\"\n",
    "df = df_shakespeare\n",
    "\n",
    "hammock = hammock_plot.Hammock(df)\n",
    "\n",
    "hammock.plot(\n",
    "    var= [item for item in list(df) if item != \"play_name\"],\n",
    "    display_figure=False,\n",
    "    hi_var=\"speaker1\",\n",
    "    hi_value=[\"Nobility\",\"Citizens\",\"Gentry\"],\n",
    "    hi_box=\"horizontal\",\n",
    "    save_path=os.path.join(EXPECTED_PATH if GENERATE_EXPECTED else RESULT_PATH, filename),\n",
    ")\n",
    "if not GENERATE_EXPECTED: show_expected_vs_actual(\"Highlight Box = Horizontal Test\", filename)"
   ]
  },
  {
   "cell_type": "markdown",
   "id": "1ba27e4f",
   "metadata": {},
   "source": [
    "## Highlight missing variable"
   ]
  },
  {
   "cell_type": "code",
   "execution_count": 36,
   "id": "e4ba672a",
   "metadata": {},
   "outputs": [
    {
     "name": "stdout",
     "output_type": "stream",
     "text": [
      "Missing Variable Test: No visual differences detected\n"
     ]
    }
   ],
   "source": [
    "# highlight - missing = True\n",
    "filename = \"hi_missing.png\"\n",
    "df=df_diabetes\n",
    "\n",
    "hammock = hammock_plot.Hammock(df)\n",
    "\n",
    "hammock.plot(\n",
    "    var=list(df),\n",
    "    missing=True,\n",
    "    display_figure=False,\n",
    "    hi_var=\"satrate\",\n",
    "    hi_missing=True,\n",
    "    save_path=os.path.join(EXPECTED_PATH if GENERATE_EXPECTED else RESULT_PATH, filename)\n",
    ")\n",
    "if not GENERATE_EXPECTED: show_expected_vs_actual(\"Missing Variable Test\", filename)\n"
   ]
  },
  {
   "cell_type": "markdown",
   "id": "3cc5ec01",
   "metadata": {},
   "source": [
    "## Custom highlight colour list"
   ]
  },
  {
   "cell_type": "code",
   "execution_count": 37,
   "id": "0f7a2f6a",
   "metadata": {},
   "outputs": [
    {
     "name": "stderr",
     "output_type": "stream",
     "text": [
      "c:\\Users\\shuan\\Documents\\personal\\2025-hammock-plots\\hammock_plot\\hammock_plot\\shapes.py:62: UserWarning: Overlap detected in unibar PhysicalActivity.\n",
      "  warnings.warn(f\"Overlap detected in unibar {unibar_name}.\", UserWarning)\n"
     ]
    },
    {
     "name": "stdout",
     "output_type": "stream",
     "text": [
      "Highlight Colours Test: No visual differences detected\n"
     ]
    }
   ],
   "source": [
    "# highlight - modified colours\n",
    "# QUESTION: are these supposed to be rounded?\n",
    "\n",
    "filename = \"highlight_colours.png\"\n",
    "df = df_asthma_2.dropna().iloc[:20, :]\n",
    "\n",
    "hammock = hammock_plot.Hammock(df)\n",
    "\n",
    "hammock.plot(\n",
    "    var= [\"Age\", \"Gender\", \"Smoking\", \"PhysicalActivity\", \"FamilyHistoryAsthma\"],\n",
    "    display_figure=False,\n",
    "    hi_var = \"Age\",\n",
    "    hi_value=[7, 21, 22, 26],\n",
    "    colors=[\"red\", \"orange\", \"orange\", \"green\"],\n",
    "    missing=True,\n",
    "    save_path=os.path.join(EXPECTED_PATH if GENERATE_EXPECTED else RESULT_PATH, filename)\n",
    ")\n",
    "if not GENERATE_EXPECTED: show_expected_vs_actual(\"Highlight Colours Test\", filename)"
   ]
  },
  {
   "cell_type": "markdown",
   "id": "bb811a06",
   "metadata": {},
   "source": [
    "## Different default colour, alpha"
   ]
  },
  {
   "cell_type": "code",
   "execution_count": null,
   "id": "f8d130ef",
   "metadata": {},
   "outputs": [
    {
     "name": "stdout",
     "output_type": "stream",
     "text": [
      "Default Colour Test: No visual differences detected\n"
     ]
    },
    {
     "name": "stderr",
     "output_type": "stream",
     "text": [
      "c:\\Users\\shuan\\Documents\\personal\\2025-hammock-plots\\hammock_plot\\hammock_plot\\shapes.py:62: UserWarning: Overlap detected in unibar PhysicalActivity.\n",
      "  warnings.warn(f\"Overlap detected in unibar {unibar_name}.\", UserWarning)\n"
     ]
    },
    {
     "data": {
      "image/png": "[encoded data removed]",
      "text/plain": [
       "<Figure size 1500x1000 with 1 Axes>"
      ]
     },
     "metadata": {},
     "output_type": "display_data"
    }
   ],
   "source": [
    "# highlight - modified default colour\n",
    "filename = \"default_colour.png\"\n",
    "df = df_asthma_2.dropna().iloc[:20, :]\n",
    "\n",
    "hammock = hammock_plot.Hammock(df)\n",
    "\n",
    "hammock.plot(\n",
    "    var= [\"Age\", \"Gender\", \"Smoking\", \"PhysicalActivity\", \"FamilyHistoryAsthma\"],\n",
    "    display_figure=False,\n",
    "    default_color=\"#888888\",\n",
    "    save_path=os.path.join(EXPECTED_PATH if GENERATE_EXPECTED else RESULT_PATH, filename),\n",
    "    alpha=0.5,\n",
    ")\n",
    "if not GENERATE_EXPECTED: show_expected_vs_actual(\"Default Colour Test\", filename)"
   ]
  },
  {
   "cell_type": "markdown",
   "id": "f9d9713c",
   "metadata": {},
   "source": [
    "# Spacing & Layout tests\n",
    "Test cases involving \"spacing and layout\" hammock plot methods (following the categories in README.md)"
   ]
  },
  {
   "cell_type": "markdown",
   "id": "2319aa6d",
   "metadata": {},
   "source": [
    "## Uni Fraction"
   ]
  },
  {
   "cell_type": "code",
   "execution_count": null,
   "id": "c4f329bd",
   "metadata": {},
   "outputs": [
    {
     "name": "stderr",
     "output_type": "stream",
     "text": [
      "c:\\Users\\shuan\\Documents\\personal\\2025-hammock-plots\\hammock_plot\\hammock_plot\\shapes.py:62: UserWarning: Overlap detected in unibar hospitalizations.\n",
      "  warnings.warn(f\"Overlap detected in unibar {unibar_name}.\", UserWarning)\n",
      "c:\\Users\\shuan\\Documents\\personal\\2025-hammock-plots\\hammock_plot\\hammock_plot\\shapes.py:62: UserWarning: Overlap detected in unibar gender.\n",
      "  warnings.warn(f\"Overlap detected in unibar {unibar_name}.\", UserWarning)\n",
      "c:\\Users\\shuan\\Documents\\personal\\2025-hammock-plots\\hammock_plot\\hammock_plot\\shapes.py:62: UserWarning: Overlap detected in unibar comorbidities.\n",
      "  warnings.warn(f\"Overlap detected in unibar {unibar_name}.\", UserWarning)\n"
     ]
    },
    {
     "name": "stdout",
     "output_type": "stream",
     "text": [
      "Uni Fraction Test: No visual differences detected\n"
     ]
    }
   ],
   "source": [
    "# spacing & layout - bar width\n",
    "filename = \"bar_width.png\"\n",
    "\n",
    "df = df_asthma\n",
    "\n",
    "hammock = hammock_plot.Hammock(df)\n",
    "\n",
    "hammock.plot(\n",
    "    var=list(df),\n",
    "    uni_fraction=1,\n",
    "    display_figure=False,\n",
    "    save_path=os.path.join(EXPECTED_PATH if GENERATE_EXPECTED else RESULT_PATH, filename)\n",
    ")\n",
    "if not GENERATE_EXPECTED: show_expected_vs_actual(\"Uni Fraction Test\", filename)"
   ]
  },
  {
   "cell_type": "markdown",
   "id": "77d867bf",
   "metadata": {},
   "source": [
    "## Connector Fraction"
   ]
  },
  {
   "cell_type": "code",
   "execution_count": null,
   "id": "5ef6e5b4",
   "metadata": {},
   "outputs": [
    {
     "name": "stdout",
     "output_type": "stream",
     "text": [
      "Connector Fraction Test: No visual differences detected\n"
     ]
    }
   ],
   "source": [
    "# spacing & layout - connector_fraction\n",
    "filename = \"connector_fraction.png\"\n",
    "\n",
    "df = df_shakespeare\n",
    "\n",
    "hammock = hammock_plot.Hammock(df)\n",
    "\n",
    "hammock.plot(\n",
    "    var=list(df),\n",
    "    uni_fraction=0.7,\n",
    "    connector_fraction=0.05,\n",
    "    display_figure=False,\n",
    "    save_path=os.path.join(EXPECTED_PATH if GENERATE_EXPECTED else RESULT_PATH, filename)\n",
    ")\n",
    "if not GENERATE_EXPECTED: show_expected_vs_actual(\"Connector Fraction Test\", filename)"
   ]
  },
  {
   "cell_type": "markdown",
   "id": "0a9d428a",
   "metadata": {},
   "source": [
    "## Label Space"
   ]
  },
  {
   "cell_type": "code",
   "execution_count": null,
   "id": "6e3a34ff",
   "metadata": {},
   "outputs": [
    {
     "name": "stdout",
     "output_type": "stream",
     "text": [
      "Display Label Test: No visual differences detected\n"
     ]
    }
   ],
   "source": [
    "# spacing & layout - space between labels\n",
    "filename = \"space.png\"\n",
    "\n",
    "df = df_asthma\n",
    "\n",
    "hammock = hammock_plot.Hammock(df)\n",
    "\n",
    "hammock.plot(\n",
    "    var=list(df),\n",
    "    space=.9,\n",
    "    display_figure=False,\n",
    "    save_path=os.path.join(EXPECTED_PATH if GENERATE_EXPECTED else RESULT_PATH, filename)\n",
    ")\n",
    "if not GENERATE_EXPECTED: show_expected_vs_actual(\"Display Label Test\", filename)"
   ]
  },
  {
   "cell_type": "markdown",
   "id": "fc2a9a3e",
   "metadata": {},
   "source": [
    "## Label options"
   ]
  },
  {
   "cell_type": "code",
   "execution_count": null,
   "id": "cb3bf8ea",
   "metadata": {},
   "outputs": [
    {
     "name": "stdout",
     "output_type": "stream",
     "text": [
      "Label Options Test: No visual differences detected\n"
     ]
    }
   ],
   "source": [
    "# spacing & layout - label options (matplotlib)\n",
    "filename = \"label-opts.png\"\n",
    "\n",
    "df = df_asthma\n",
    "\n",
    "hammock = hammock_plot.Hammock(df)\n",
    "\n",
    "hammock.plot(\n",
    "    var=list(df),\n",
    "    label_options={\"comorbidities\": {\"fontstyle\": \"italic\", \"fontsize\": 12,},\n",
    "                   \"group\":{\"fontweight\": \"bold\",\"fontsize\": 14,\"rotation\": 45,\"color\": \"darkred\"},\n",
    "                   \"gender\":{\"fontsize\": 10,\"color\": \"black\",\"bbox\": dict(facecolor=\"lightyellow\",edgecolor=\"gray\", boxstyle=\"round,pad=0.3\")},},\n",
    "    display_figure=False,\n",
    "    save_path=os.path.join(EXPECTED_PATH if GENERATE_EXPECTED else RESULT_PATH, filename)\n",
    ")\n",
    "if not GENERATE_EXPECTED: show_expected_vs_actual(\"Label Options Test\", filename)"
   ]
  },
  {
   "cell_type": "markdown",
   "id": "bec17037",
   "metadata": {},
   "source": [
    "## Plot height"
   ]
  },
  {
   "cell_type": "code",
   "execution_count": null,
   "id": "a56d014b",
   "metadata": {},
   "outputs": [
    {
     "name": "stdout",
     "output_type": "stream",
     "text": [
      "Display Label Test: No visual differences detected\n"
     ]
    }
   ],
   "source": [
    "# spacing & layout - plot height\n",
    "filename = \"plot_height.png\"\n",
    "\n",
    "df = df_asthma\n",
    "\n",
    "hammock = hammock_plot.Hammock(df)\n",
    "\n",
    "hammock.plot(\n",
    "    var=list(df),\n",
    "    height=2,\n",
    "    display_figure=False,\n",
    "    save_path=os.path.join(EXPECTED_PATH if GENERATE_EXPECTED else RESULT_PATH, filename)\n",
    ")\n",
    "if not GENERATE_EXPECTED: show_expected_vs_actual(\"Display Label Test\", filename)"
   ]
  },
  {
   "cell_type": "markdown",
   "id": "93e9626d",
   "metadata": {},
   "source": [
    "## Plot width"
   ]
  },
  {
   "cell_type": "code",
   "execution_count": null,
   "id": "84993b24",
   "metadata": {},
   "outputs": [
    {
     "name": "stdout",
     "output_type": "stream",
     "text": [
      "Display Label Test: No visual differences detected\n"
     ]
    }
   ],
   "source": [
    "# spacing & layout - plot width\n",
    "filename = \"plot_width.png\"\n",
    "\n",
    "df = df_asthma\n",
    "\n",
    "hammock = hammock_plot.Hammock(df)\n",
    "\n",
    "hammock.plot(\n",
    "    var=list(df),\n",
    "    width=5,\n",
    "    display_figure=False,\n",
    "    save_path=os.path.join(EXPECTED_PATH if GENERATE_EXPECTED else RESULT_PATH, filename)\n",
    ")\n",
    "if not GENERATE_EXPECTED: show_expected_vs_actual(\"Display Label Test\", filename)"
   ]
  },
  {
   "cell_type": "markdown",
   "id": "261b4e42",
   "metadata": {},
   "source": [
    "## Min bar height"
   ]
  },
  {
   "cell_type": "code",
   "execution_count": null,
   "id": "d60cb8ca",
   "metadata": {},
   "outputs": [
    {
     "name": "stdout",
     "output_type": "stream",
     "text": [
      "Display Label Test: No visual differences detected\n"
     ]
    },
    {
     "name": "stderr",
     "output_type": "stream",
     "text": [
      "c:\\Users\\shuan\\Documents\\personal\\2025-hammock-plots\\hammock_plot\\hammock_plot\\shapes.py:62: UserWarning: Overlap detected in unibar hospitalizations.\n",
      "  warnings.warn(f\"Overlap detected in unibar {unibar_name}.\", UserWarning)\n",
      "c:\\Users\\shuan\\Documents\\personal\\2025-hammock-plots\\hammock_plot\\hammock_plot\\shapes.py:62: UserWarning: Overlap detected in unibar comorbidities.\n",
      "  warnings.warn(f\"Overlap detected in unibar {unibar_name}.\", UserWarning)\n"
     ]
    }
   ],
   "source": [
    "# spacing & layout - min bar width\n",
    "filename = \"min_bar_height.png\"\n",
    "\n",
    "df = df_asthma\n",
    "\n",
    "hammock = hammock_plot.Hammock(df)\n",
    "\n",
    "hammock.plot(\n",
    "    var=list(df),\n",
    "    min_bar_height=15,\n",
    "    display_figure=False,\n",
    "    save_path=os.path.join(EXPECTED_PATH if GENERATE_EXPECTED else RESULT_PATH, filename)\n",
    ")\n",
    "if not GENERATE_EXPECTED: show_expected_vs_actual(\"Display Label Test\", filename)"
   ]
  },
  {
   "cell_type": "markdown",
   "id": "479dd8eb",
   "metadata": {},
   "source": [
    "# Other tests\n",
    "Test cases involving \"other\" hammock plot methods (following the categories in README.md)"
   ]
  },
  {
   "cell_type": "markdown",
   "id": "da91fd98",
   "metadata": {},
   "source": [
    "## Shape"
   ]
  },
  {
   "cell_type": "code",
   "execution_count": null,
   "id": "7a288125",
   "metadata": {},
   "outputs": [
    {
     "name": "stdout",
     "output_type": "stream",
     "text": [
      "Display Label Test: No visual differences detected\n"
     ]
    }
   ],
   "source": [
    "# other - shape\n",
    "filename = \"shape.png\"\n",
    "\n",
    "df = df_asthma\n",
    "\n",
    "hammock = hammock_plot.Hammock(df)\n",
    "\n",
    "hammock.plot(\n",
    "    var=list(df),\n",
    "    shape=\"parallelogram\",\n",
    "    connector_fraction=0.5,\n",
    "    display_figure=False,\n",
    "    save_path=os.path.join(EXPECTED_PATH if GENERATE_EXPECTED else RESULT_PATH, filename)\n",
    ")\n",
    "if not GENERATE_EXPECTED: show_expected_vs_actual(\"Display Label Test\", filename)"
   ]
  },
  {
   "cell_type": "markdown",
   "id": "4c359e7e",
   "metadata": {},
   "source": [
    "## Same scale"
   ]
  },
  {
   "cell_type": "markdown",
   "id": "96126be2",
   "metadata": {},
   "source": [
    "same scale - numerical"
   ]
  },
  {
   "cell_type": "code",
   "execution_count": null,
   "id": "d93274dd",
   "metadata": {},
   "outputs": [
    {
     "name": "stdout",
     "output_type": "stream",
     "text": [
      "Display Label Test: No visual differences detected\n"
     ]
    }
   ],
   "source": [
    "# other - same_scale - numeric\n",
    "filename = \"same_scale_numeric.png\"\n",
    "\n",
    "df = df_asthma\n",
    "\n",
    "hammock = hammock_plot.Hammock(df)\n",
    "\n",
    "hammock.plot(\n",
    "    var=list(df),\n",
    "    same_scale=[\"hospitalizations\", \"comorbidities\"],\n",
    "    display_figure=False,\n",
    "    save_path=os.path.join(EXPECTED_PATH if GENERATE_EXPECTED else RESULT_PATH, filename)\n",
    ")\n",
    "if not GENERATE_EXPECTED: show_expected_vs_actual(\"Display Label Test\", filename)"
   ]
  },
  {
   "cell_type": "markdown",
   "id": "388205ac",
   "metadata": {},
   "source": [
    "same scale - categorical"
   ]
  },
  {
   "cell_type": "code",
   "execution_count": null,
   "id": "3aed83a6",
   "metadata": {},
   "outputs": [
    {
     "name": "stdout",
     "output_type": "stream",
     "text": [
      "Categorical Same Scale Test: No visual differences detected\n"
     ]
    }
   ],
   "source": [
    "# other - same_scale - categorical\n",
    "filename = \"same_scale_categorical.png\"\n",
    "\n",
    "df = df_shakespeare\n",
    "\n",
    "hammock = hammock_plot.Hammock(df)\n",
    "\n",
    "hammock.plot(\n",
    "    var=[\"speaker1\", \"speaker2\",\"sex1\"],\n",
    "    same_scale=[\"speaker1\", \"speaker2\", \"sex1\"],\n",
    "    value_order={\"speaker1\": [\"Yeomanry\", \"Royalty\", \"Nobility\", \"Citizens\", \"Beggars\", \"Gentry\", \"F\", \"M\"]},\n",
    "    display_figure=False,\n",
    "    save_path=os.path.join(EXPECTED_PATH if GENERATE_EXPECTED else RESULT_PATH, filename)\n",
    ")\n",
    "if not GENERATE_EXPECTED: show_expected_vs_actual(\"Categorical Same Scale Test\", filename)"
   ]
  },
  {
   "cell_type": "markdown",
   "id": "e49dfb69",
   "metadata": {},
   "source": [
    "## Display figure"
   ]
  },
  {
   "cell_type": "code",
   "execution_count": null,
   "id": "625eadcd",
   "metadata": {},
   "outputs": [
    {
     "data": {
      "text/plain": [
       "<Axes: >"
      ]
     },
     "execution_count": 98,
     "metadata": {},
     "output_type": "execute_result"
    },
    {
     "data": {
      "image/png": "[encoded data removed]",
      "text/plain": [
       "<Figure size 1500x1000 with 1 Axes>"
      ]
     },
     "metadata": {},
     "output_type": "display_data"
    }
   ],
   "source": [
    "# other - display_figure\n",
    "# success = figure displays successfully\n",
    "df = df_asthma\n",
    "\n",
    "hammock = hammock_plot.Hammock(df)\n",
    "\n",
    "hammock.plot(\n",
    "    var=list(df),\n",
    "    display_figure=True\n",
    ")"
   ]
  }
 ],
 "metadata": {
  "kernelspec": {
   "display_name": "venv",
   "language": "python",
   "name": "python3"
  },
  "language_info": {
   "codemirror_mode": {
    "name": "ipython",
    "version": 3
   },
   "file_extension": ".py",
   "mimetype": "text/x-python",
   "name": "python",
   "nbconvert_exporter": "python",
   "pygments_lexer": "ipython3",
   "version": "3.13.5"
  }
 },
 "nbformat": 4,
 "nbformat_minor": 5
}
